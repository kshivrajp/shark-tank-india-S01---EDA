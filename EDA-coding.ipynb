{
 "cells": [
  {
   "cell_type": "code",
   "execution_count": 2,
   "metadata": {},
   "outputs": [],
   "source": [
    "import numpy as np \n",
    "import pandas as pd \n",
    "import matplotlib.pyplot as plt \n",
    "import seaborn as sns \n",
    "import warnings\n",
    "warnings.filterwarnings('ignore')"
   ]
  },
  {
   "cell_type": "code",
   "execution_count": 3,
   "metadata": {},
   "outputs": [],
   "source": [
    "data = pd.read_csv(\"D:\\Data Science study\\data science\\COMPLETE PROJECT\\shark tank india EDA\\Shark_Tank_India_S1.csv\")"
   ]
  },
  {
   "cell_type": "code",
   "execution_count": 4,
   "metadata": {},
   "outputs": [
    {
     "data": {
      "text/html": [
       "<div>\n",
       "<style scoped>\n",
       "    .dataframe tbody tr th:only-of-type {\n",
       "        vertical-align: middle;\n",
       "    }\n",
       "\n",
       "    .dataframe tbody tr th {\n",
       "        vertical-align: top;\n",
       "    }\n",
       "\n",
       "    .dataframe thead th {\n",
       "        text-align: right;\n",
       "    }\n",
       "</style>\n",
       "<table border=\"1\" class=\"dataframe\">\n",
       "  <thead>\n",
       "    <tr style=\"text-align: right;\">\n",
       "      <th></th>\n",
       "      <th>episode_number</th>\n",
       "      <th>startup_number</th>\n",
       "      <th>brand_name</th>\n",
       "      <th>description</th>\n",
       "      <th>deal_offered</th>\n",
       "      <th>startup_ask_amount_lakhs</th>\n",
       "      <th>startup_ask_percentage</th>\n",
       "      <th>startup_ask_valuation</th>\n",
       "      <th>deal_amount_lakhs</th>\n",
       "      <th>deal_equity</th>\n",
       "      <th>...</th>\n",
       "      <th>ghazal_invested</th>\n",
       "      <th>namita_present</th>\n",
       "      <th>namita_invested</th>\n",
       "      <th>peyush_present</th>\n",
       "      <th>peyush_invested</th>\n",
       "      <th>vineeta_present</th>\n",
       "      <th>vineeta_invested</th>\n",
       "      <th>sharks_offering</th>\n",
       "      <th>amount_per_shark</th>\n",
       "      <th>equity_per_shark</th>\n",
       "    </tr>\n",
       "  </thead>\n",
       "  <tbody>\n",
       "    <tr>\n",
       "      <th>0</th>\n",
       "      <td>1</td>\n",
       "      <td>1</td>\n",
       "      <td>BluePine Industries</td>\n",
       "      <td>Frozen Momos</td>\n",
       "      <td>1</td>\n",
       "      <td>50.0</td>\n",
       "      <td>5.00</td>\n",
       "      <td>1000.00</td>\n",
       "      <td>75.0</td>\n",
       "      <td>16.00</td>\n",
       "      <td>...</td>\n",
       "      <td>0</td>\n",
       "      <td>1</td>\n",
       "      <td>0</td>\n",
       "      <td>0</td>\n",
       "      <td>0</td>\n",
       "      <td>1</td>\n",
       "      <td>1</td>\n",
       "      <td>3</td>\n",
       "      <td>25.0</td>\n",
       "      <td>5.333333</td>\n",
       "    </tr>\n",
       "    <tr>\n",
       "      <th>1</th>\n",
       "      <td>1</td>\n",
       "      <td>2</td>\n",
       "      <td>Booz scooters</td>\n",
       "      <td>Renting e-bike for mobility in private spaces</td>\n",
       "      <td>1</td>\n",
       "      <td>40.0</td>\n",
       "      <td>15.00</td>\n",
       "      <td>266.67</td>\n",
       "      <td>40.0</td>\n",
       "      <td>50.00</td>\n",
       "      <td>...</td>\n",
       "      <td>0</td>\n",
       "      <td>1</td>\n",
       "      <td>0</td>\n",
       "      <td>0</td>\n",
       "      <td>0</td>\n",
       "      <td>1</td>\n",
       "      <td>1</td>\n",
       "      <td>2</td>\n",
       "      <td>20.0</td>\n",
       "      <td>25.000000</td>\n",
       "    </tr>\n",
       "    <tr>\n",
       "      <th>2</th>\n",
       "      <td>1</td>\n",
       "      <td>3</td>\n",
       "      <td>Heart up my Sleeves</td>\n",
       "      <td>Detachable Sleeves</td>\n",
       "      <td>1</td>\n",
       "      <td>25.0</td>\n",
       "      <td>10.00</td>\n",
       "      <td>250.00</td>\n",
       "      <td>25.0</td>\n",
       "      <td>30.00</td>\n",
       "      <td>...</td>\n",
       "      <td>0</td>\n",
       "      <td>1</td>\n",
       "      <td>0</td>\n",
       "      <td>0</td>\n",
       "      <td>0</td>\n",
       "      <td>1</td>\n",
       "      <td>1</td>\n",
       "      <td>2</td>\n",
       "      <td>12.5</td>\n",
       "      <td>15.000000</td>\n",
       "    </tr>\n",
       "    <tr>\n",
       "      <th>3</th>\n",
       "      <td>2</td>\n",
       "      <td>4</td>\n",
       "      <td>Tagz Foods</td>\n",
       "      <td>Healthy Potato Chips</td>\n",
       "      <td>1</td>\n",
       "      <td>70.0</td>\n",
       "      <td>1.00</td>\n",
       "      <td>7000.00</td>\n",
       "      <td>70.0</td>\n",
       "      <td>2.75</td>\n",
       "      <td>...</td>\n",
       "      <td>0</td>\n",
       "      <td>1</td>\n",
       "      <td>0</td>\n",
       "      <td>0</td>\n",
       "      <td>0</td>\n",
       "      <td>1</td>\n",
       "      <td>0</td>\n",
       "      <td>1</td>\n",
       "      <td>70.0</td>\n",
       "      <td>2.750000</td>\n",
       "    </tr>\n",
       "    <tr>\n",
       "      <th>4</th>\n",
       "      <td>2</td>\n",
       "      <td>5</td>\n",
       "      <td>Head and Heart</td>\n",
       "      <td>Brain Development Course</td>\n",
       "      <td>0</td>\n",
       "      <td>50.0</td>\n",
       "      <td>5.00</td>\n",
       "      <td>1000.00</td>\n",
       "      <td>0.0</td>\n",
       "      <td>0.00</td>\n",
       "      <td>...</td>\n",
       "      <td>0</td>\n",
       "      <td>1</td>\n",
       "      <td>0</td>\n",
       "      <td>0</td>\n",
       "      <td>0</td>\n",
       "      <td>1</td>\n",
       "      <td>0</td>\n",
       "      <td>0</td>\n",
       "      <td>0.0</td>\n",
       "      <td>0.000000</td>\n",
       "    </tr>\n",
       "    <tr>\n",
       "      <th>...</th>\n",
       "      <td>...</td>\n",
       "      <td>...</td>\n",
       "      <td>...</td>\n",
       "      <td>...</td>\n",
       "      <td>...</td>\n",
       "      <td>...</td>\n",
       "      <td>...</td>\n",
       "      <td>...</td>\n",
       "      <td>...</td>\n",
       "      <td>...</td>\n",
       "      <td>...</td>\n",
       "      <td>...</td>\n",
       "      <td>...</td>\n",
       "      <td>...</td>\n",
       "      <td>...</td>\n",
       "      <td>...</td>\n",
       "      <td>...</td>\n",
       "      <td>...</td>\n",
       "      <td>...</td>\n",
       "      <td>...</td>\n",
       "      <td>...</td>\n",
       "    </tr>\n",
       "    <tr>\n",
       "      <th>116</th>\n",
       "      <td>35</td>\n",
       "      <td>117</td>\n",
       "      <td>Elcare India</td>\n",
       "      <td>Carenting for Elders</td>\n",
       "      <td>0</td>\n",
       "      <td>100.0</td>\n",
       "      <td>2.50</td>\n",
       "      <td>4000.00</td>\n",
       "      <td>0.0</td>\n",
       "      <td>0.00</td>\n",
       "      <td>...</td>\n",
       "      <td>0</td>\n",
       "      <td>1</td>\n",
       "      <td>0</td>\n",
       "      <td>1</td>\n",
       "      <td>0</td>\n",
       "      <td>1</td>\n",
       "      <td>0</td>\n",
       "      <td>0</td>\n",
       "      <td>0.0</td>\n",
       "      <td>0.000000</td>\n",
       "    </tr>\n",
       "    <tr>\n",
       "      <th>117</th>\n",
       "      <td>36</td>\n",
       "      <td>118</td>\n",
       "      <td>Sneakare</td>\n",
       "      <td>Shoe care and storage solutions</td>\n",
       "      <td>1</td>\n",
       "      <td>20.0</td>\n",
       "      <td>5.00</td>\n",
       "      <td>400.00</td>\n",
       "      <td>21.0</td>\n",
       "      <td>12.00</td>\n",
       "      <td>...</td>\n",
       "      <td>0</td>\n",
       "      <td>1</td>\n",
       "      <td>1</td>\n",
       "      <td>1</td>\n",
       "      <td>0</td>\n",
       "      <td>1</td>\n",
       "      <td>1</td>\n",
       "      <td>3</td>\n",
       "      <td>7.0</td>\n",
       "      <td>4.000000</td>\n",
       "    </tr>\n",
       "    <tr>\n",
       "      <th>118</th>\n",
       "      <td>36</td>\n",
       "      <td>119</td>\n",
       "      <td>French Crown</td>\n",
       "      <td>Clothing Industry</td>\n",
       "      <td>0</td>\n",
       "      <td>150.0</td>\n",
       "      <td>0.33</td>\n",
       "      <td>45000.00</td>\n",
       "      <td>0.0</td>\n",
       "      <td>0.00</td>\n",
       "      <td>...</td>\n",
       "      <td>0</td>\n",
       "      <td>1</td>\n",
       "      <td>0</td>\n",
       "      <td>1</td>\n",
       "      <td>0</td>\n",
       "      <td>1</td>\n",
       "      <td>0</td>\n",
       "      <td>0</td>\n",
       "      <td>0.0</td>\n",
       "      <td>0.000000</td>\n",
       "    </tr>\n",
       "    <tr>\n",
       "      <th>119</th>\n",
       "      <td>36</td>\n",
       "      <td>120</td>\n",
       "      <td>Store My Goods</td>\n",
       "      <td>Storage solutions</td>\n",
       "      <td>1</td>\n",
       "      <td>100.0</td>\n",
       "      <td>1.75</td>\n",
       "      <td>5714.00</td>\n",
       "      <td>100.0</td>\n",
       "      <td>4.00</td>\n",
       "      <td>...</td>\n",
       "      <td>0</td>\n",
       "      <td>1</td>\n",
       "      <td>1</td>\n",
       "      <td>1</td>\n",
       "      <td>1</td>\n",
       "      <td>1</td>\n",
       "      <td>0</td>\n",
       "      <td>2</td>\n",
       "      <td>50.0</td>\n",
       "      <td>2.000000</td>\n",
       "    </tr>\n",
       "    <tr>\n",
       "      <th>120</th>\n",
       "      <td>36</td>\n",
       "      <td>121</td>\n",
       "      <td>Devnagri</td>\n",
       "      <td>Translation platform</td>\n",
       "      <td>0</td>\n",
       "      <td>100.0</td>\n",
       "      <td>1.00</td>\n",
       "      <td>10000.00</td>\n",
       "      <td>0.0</td>\n",
       "      <td>0.00</td>\n",
       "      <td>...</td>\n",
       "      <td>0</td>\n",
       "      <td>1</td>\n",
       "      <td>0</td>\n",
       "      <td>1</td>\n",
       "      <td>0</td>\n",
       "      <td>1</td>\n",
       "      <td>0</td>\n",
       "      <td>0</td>\n",
       "      <td>0.0</td>\n",
       "      <td>0.000000</td>\n",
       "    </tr>\n",
       "  </tbody>\n",
       "</table>\n",
       "<p>121 rows × 32 columns</p>\n",
       "</div>"
      ],
      "text/plain": [
       "     episode_number  startup_number           brand_name  \\\n",
       "0                 1               1  BluePine Industries   \n",
       "1                 1               2        Booz scooters   \n",
       "2                 1               3  Heart up my Sleeves   \n",
       "3                 2               4           Tagz Foods   \n",
       "4                 2               5       Head and Heart   \n",
       "..              ...             ...                  ...   \n",
       "116              35             117         Elcare India   \n",
       "117              36             118             Sneakare   \n",
       "118              36             119         French Crown   \n",
       "119              36             120       Store My Goods   \n",
       "120              36             121             Devnagri   \n",
       "\n",
       "                                       description  deal_offered  \\\n",
       "0                                     Frozen Momos             1   \n",
       "1    Renting e-bike for mobility in private spaces             1   \n",
       "2                               Detachable Sleeves             1   \n",
       "3                             Healthy Potato Chips             1   \n",
       "4                         Brain Development Course             0   \n",
       "..                                             ...           ...   \n",
       "116                           Carenting for Elders             0   \n",
       "117                Shoe care and storage solutions             1   \n",
       "118                              Clothing Industry             0   \n",
       "119                              Storage solutions             1   \n",
       "120                           Translation platform             0   \n",
       "\n",
       "     startup_ask_amount_lakhs  startup_ask_percentage  startup_ask_valuation  \\\n",
       "0                        50.0                    5.00                1000.00   \n",
       "1                        40.0                   15.00                 266.67   \n",
       "2                        25.0                   10.00                 250.00   \n",
       "3                        70.0                    1.00                7000.00   \n",
       "4                        50.0                    5.00                1000.00   \n",
       "..                        ...                     ...                    ...   \n",
       "116                     100.0                    2.50                4000.00   \n",
       "117                      20.0                    5.00                 400.00   \n",
       "118                     150.0                    0.33               45000.00   \n",
       "119                     100.0                    1.75                5714.00   \n",
       "120                     100.0                    1.00               10000.00   \n",
       "\n",
       "     deal_amount_lakhs  deal_equity  ...  ghazal_invested  namita_present  \\\n",
       "0                 75.0        16.00  ...                0               1   \n",
       "1                 40.0        50.00  ...                0               1   \n",
       "2                 25.0        30.00  ...                0               1   \n",
       "3                 70.0         2.75  ...                0               1   \n",
       "4                  0.0         0.00  ...                0               1   \n",
       "..                 ...          ...  ...              ...             ...   \n",
       "116                0.0         0.00  ...                0               1   \n",
       "117               21.0        12.00  ...                0               1   \n",
       "118                0.0         0.00  ...                0               1   \n",
       "119              100.0         4.00  ...                0               1   \n",
       "120                0.0         0.00  ...                0               1   \n",
       "\n",
       "     namita_invested  peyush_present  peyush_invested  vineeta_present  \\\n",
       "0                  0               0                0                1   \n",
       "1                  0               0                0                1   \n",
       "2                  0               0                0                1   \n",
       "3                  0               0                0                1   \n",
       "4                  0               0                0                1   \n",
       "..               ...             ...              ...              ...   \n",
       "116                0               1                0                1   \n",
       "117                1               1                0                1   \n",
       "118                0               1                0                1   \n",
       "119                1               1                1                1   \n",
       "120                0               1                0                1   \n",
       "\n",
       "     vineeta_invested  sharks_offering  amount_per_shark  equity_per_shark  \n",
       "0                   1                3              25.0          5.333333  \n",
       "1                   1                2              20.0         25.000000  \n",
       "2                   1                2              12.5         15.000000  \n",
       "3                   0                1              70.0          2.750000  \n",
       "4                   0                0               0.0          0.000000  \n",
       "..                ...              ...               ...               ...  \n",
       "116                 0                0               0.0          0.000000  \n",
       "117                 1                3               7.0          4.000000  \n",
       "118                 0                0               0.0          0.000000  \n",
       "119                 0                2              50.0          2.000000  \n",
       "120                 0                0               0.0          0.000000  \n",
       "\n",
       "[121 rows x 32 columns]"
      ]
     },
     "execution_count": 4,
     "metadata": {},
     "output_type": "execute_result"
    }
   ],
   "source": [
    "data"
   ]
  },
  {
   "cell_type": "code",
   "execution_count": 5,
   "metadata": {},
   "outputs": [
    {
     "data": {
      "text/html": [
       "<div>\n",
       "<style scoped>\n",
       "    .dataframe tbody tr th:only-of-type {\n",
       "        vertical-align: middle;\n",
       "    }\n",
       "\n",
       "    .dataframe tbody tr th {\n",
       "        vertical-align: top;\n",
       "    }\n",
       "\n",
       "    .dataframe thead th {\n",
       "        text-align: right;\n",
       "    }\n",
       "</style>\n",
       "<table border=\"1\" class=\"dataframe\">\n",
       "  <thead>\n",
       "    <tr style=\"text-align: right;\">\n",
       "      <th></th>\n",
       "      <th>episode_number</th>\n",
       "      <th>startup_number</th>\n",
       "      <th>brand_name</th>\n",
       "      <th>description</th>\n",
       "      <th>deal_offered</th>\n",
       "      <th>startup_ask_amount_lakhs</th>\n",
       "      <th>startup_ask_percentage</th>\n",
       "      <th>startup_ask_valuation</th>\n",
       "      <th>deal_amount_lakhs</th>\n",
       "      <th>deal_equity</th>\n",
       "      <th>...</th>\n",
       "      <th>ghazal_invested</th>\n",
       "      <th>namita_present</th>\n",
       "      <th>namita_invested</th>\n",
       "      <th>peyush_present</th>\n",
       "      <th>peyush_invested</th>\n",
       "      <th>vineeta_present</th>\n",
       "      <th>vineeta_invested</th>\n",
       "      <th>sharks_offering</th>\n",
       "      <th>amount_per_shark</th>\n",
       "      <th>equity_per_shark</th>\n",
       "    </tr>\n",
       "  </thead>\n",
       "  <tbody>\n",
       "    <tr>\n",
       "      <th>0</th>\n",
       "      <td>1</td>\n",
       "      <td>1</td>\n",
       "      <td>BluePine Industries</td>\n",
       "      <td>Frozen Momos</td>\n",
       "      <td>1</td>\n",
       "      <td>50.0</td>\n",
       "      <td>5.0</td>\n",
       "      <td>1000.00</td>\n",
       "      <td>75.0</td>\n",
       "      <td>16.00</td>\n",
       "      <td>...</td>\n",
       "      <td>0</td>\n",
       "      <td>1</td>\n",
       "      <td>0</td>\n",
       "      <td>0</td>\n",
       "      <td>0</td>\n",
       "      <td>1</td>\n",
       "      <td>1</td>\n",
       "      <td>3</td>\n",
       "      <td>25.0</td>\n",
       "      <td>5.333333</td>\n",
       "    </tr>\n",
       "    <tr>\n",
       "      <th>1</th>\n",
       "      <td>1</td>\n",
       "      <td>2</td>\n",
       "      <td>Booz scooters</td>\n",
       "      <td>Renting e-bike for mobility in private spaces</td>\n",
       "      <td>1</td>\n",
       "      <td>40.0</td>\n",
       "      <td>15.0</td>\n",
       "      <td>266.67</td>\n",
       "      <td>40.0</td>\n",
       "      <td>50.00</td>\n",
       "      <td>...</td>\n",
       "      <td>0</td>\n",
       "      <td>1</td>\n",
       "      <td>0</td>\n",
       "      <td>0</td>\n",
       "      <td>0</td>\n",
       "      <td>1</td>\n",
       "      <td>1</td>\n",
       "      <td>2</td>\n",
       "      <td>20.0</td>\n",
       "      <td>25.000000</td>\n",
       "    </tr>\n",
       "    <tr>\n",
       "      <th>2</th>\n",
       "      <td>1</td>\n",
       "      <td>3</td>\n",
       "      <td>Heart up my Sleeves</td>\n",
       "      <td>Detachable Sleeves</td>\n",
       "      <td>1</td>\n",
       "      <td>25.0</td>\n",
       "      <td>10.0</td>\n",
       "      <td>250.00</td>\n",
       "      <td>25.0</td>\n",
       "      <td>30.00</td>\n",
       "      <td>...</td>\n",
       "      <td>0</td>\n",
       "      <td>1</td>\n",
       "      <td>0</td>\n",
       "      <td>0</td>\n",
       "      <td>0</td>\n",
       "      <td>1</td>\n",
       "      <td>1</td>\n",
       "      <td>2</td>\n",
       "      <td>12.5</td>\n",
       "      <td>15.000000</td>\n",
       "    </tr>\n",
       "    <tr>\n",
       "      <th>3</th>\n",
       "      <td>2</td>\n",
       "      <td>4</td>\n",
       "      <td>Tagz Foods</td>\n",
       "      <td>Healthy Potato Chips</td>\n",
       "      <td>1</td>\n",
       "      <td>70.0</td>\n",
       "      <td>1.0</td>\n",
       "      <td>7000.00</td>\n",
       "      <td>70.0</td>\n",
       "      <td>2.75</td>\n",
       "      <td>...</td>\n",
       "      <td>0</td>\n",
       "      <td>1</td>\n",
       "      <td>0</td>\n",
       "      <td>0</td>\n",
       "      <td>0</td>\n",
       "      <td>1</td>\n",
       "      <td>0</td>\n",
       "      <td>1</td>\n",
       "      <td>70.0</td>\n",
       "      <td>2.750000</td>\n",
       "    </tr>\n",
       "    <tr>\n",
       "      <th>4</th>\n",
       "      <td>2</td>\n",
       "      <td>5</td>\n",
       "      <td>Head and Heart</td>\n",
       "      <td>Brain Development Course</td>\n",
       "      <td>0</td>\n",
       "      <td>50.0</td>\n",
       "      <td>5.0</td>\n",
       "      <td>1000.00</td>\n",
       "      <td>0.0</td>\n",
       "      <td>0.00</td>\n",
       "      <td>...</td>\n",
       "      <td>0</td>\n",
       "      <td>1</td>\n",
       "      <td>0</td>\n",
       "      <td>0</td>\n",
       "      <td>0</td>\n",
       "      <td>1</td>\n",
       "      <td>0</td>\n",
       "      <td>0</td>\n",
       "      <td>0.0</td>\n",
       "      <td>0.000000</td>\n",
       "    </tr>\n",
       "  </tbody>\n",
       "</table>\n",
       "<p>5 rows × 32 columns</p>\n",
       "</div>"
      ],
      "text/plain": [
       "   episode_number  startup_number           brand_name  \\\n",
       "0               1               1  BluePine Industries   \n",
       "1               1               2        Booz scooters   \n",
       "2               1               3  Heart up my Sleeves   \n",
       "3               2               4           Tagz Foods   \n",
       "4               2               5       Head and Heart   \n",
       "\n",
       "                                     description  deal_offered  \\\n",
       "0                                   Frozen Momos             1   \n",
       "1  Renting e-bike for mobility in private spaces             1   \n",
       "2                             Detachable Sleeves             1   \n",
       "3                           Healthy Potato Chips             1   \n",
       "4                       Brain Development Course             0   \n",
       "\n",
       "   startup_ask_amount_lakhs  startup_ask_percentage  startup_ask_valuation  \\\n",
       "0                      50.0                     5.0                1000.00   \n",
       "1                      40.0                    15.0                 266.67   \n",
       "2                      25.0                    10.0                 250.00   \n",
       "3                      70.0                     1.0                7000.00   \n",
       "4                      50.0                     5.0                1000.00   \n",
       "\n",
       "   deal_amount_lakhs  deal_equity  ...  ghazal_invested  namita_present  \\\n",
       "0               75.0        16.00  ...                0               1   \n",
       "1               40.0        50.00  ...                0               1   \n",
       "2               25.0        30.00  ...                0               1   \n",
       "3               70.0         2.75  ...                0               1   \n",
       "4                0.0         0.00  ...                0               1   \n",
       "\n",
       "   namita_invested  peyush_present  peyush_invested  vineeta_present  \\\n",
       "0                0               0                0                1   \n",
       "1                0               0                0                1   \n",
       "2                0               0                0                1   \n",
       "3                0               0                0                1   \n",
       "4                0               0                0                1   \n",
       "\n",
       "   vineeta_invested  sharks_offering  amount_per_shark  equity_per_shark  \n",
       "0                 1                3              25.0          5.333333  \n",
       "1                 1                2              20.0         25.000000  \n",
       "2                 1                2              12.5         15.000000  \n",
       "3                 0                1              70.0          2.750000  \n",
       "4                 0                0               0.0          0.000000  \n",
       "\n",
       "[5 rows x 32 columns]"
      ]
     },
     "execution_count": 5,
     "metadata": {},
     "output_type": "execute_result"
    }
   ],
   "source": [
    "data.head()"
   ]
  },
  {
   "cell_type": "code",
   "execution_count": 5,
   "metadata": {},
   "outputs": [
    {
     "data": {
      "text/html": [
       "<div>\n",
       "<style scoped>\n",
       "    .dataframe tbody tr th:only-of-type {\n",
       "        vertical-align: middle;\n",
       "    }\n",
       "\n",
       "    .dataframe tbody tr th {\n",
       "        vertical-align: top;\n",
       "    }\n",
       "\n",
       "    .dataframe thead th {\n",
       "        text-align: right;\n",
       "    }\n",
       "</style>\n",
       "<table border=\"1\" class=\"dataframe\">\n",
       "  <thead>\n",
       "    <tr style=\"text-align: right;\">\n",
       "      <th></th>\n",
       "      <th>episode_number</th>\n",
       "      <th>startup_number</th>\n",
       "      <th>brand_name</th>\n",
       "      <th>description</th>\n",
       "      <th>deal_offered</th>\n",
       "      <th>startup_ask_amount_lakhs</th>\n",
       "      <th>startup_ask_percentage</th>\n",
       "      <th>startup_ask_valuation</th>\n",
       "      <th>deal_amount_lakhs</th>\n",
       "      <th>deal_equity</th>\n",
       "      <th>...</th>\n",
       "      <th>ghazal_invested</th>\n",
       "      <th>namita_present</th>\n",
       "      <th>namita_invested</th>\n",
       "      <th>peyush_present</th>\n",
       "      <th>peyush_invested</th>\n",
       "      <th>vineeta_present</th>\n",
       "      <th>vineeta_invested</th>\n",
       "      <th>sharks_offering</th>\n",
       "      <th>amount_per_shark</th>\n",
       "      <th>equity_per_shark</th>\n",
       "    </tr>\n",
       "  </thead>\n",
       "  <tbody>\n",
       "    <tr>\n",
       "      <th>116</th>\n",
       "      <td>35</td>\n",
       "      <td>117</td>\n",
       "      <td>Elcare India</td>\n",
       "      <td>Carenting for Elders</td>\n",
       "      <td>0</td>\n",
       "      <td>100.0</td>\n",
       "      <td>2.50</td>\n",
       "      <td>4000.0</td>\n",
       "      <td>0.0</td>\n",
       "      <td>0.0</td>\n",
       "      <td>...</td>\n",
       "      <td>0</td>\n",
       "      <td>1</td>\n",
       "      <td>0</td>\n",
       "      <td>1</td>\n",
       "      <td>0</td>\n",
       "      <td>1</td>\n",
       "      <td>0</td>\n",
       "      <td>0</td>\n",
       "      <td>0.0</td>\n",
       "      <td>0.0</td>\n",
       "    </tr>\n",
       "    <tr>\n",
       "      <th>117</th>\n",
       "      <td>36</td>\n",
       "      <td>118</td>\n",
       "      <td>Sneakare</td>\n",
       "      <td>Shoe care and storage solutions</td>\n",
       "      <td>1</td>\n",
       "      <td>20.0</td>\n",
       "      <td>5.00</td>\n",
       "      <td>400.0</td>\n",
       "      <td>21.0</td>\n",
       "      <td>12.0</td>\n",
       "      <td>...</td>\n",
       "      <td>0</td>\n",
       "      <td>1</td>\n",
       "      <td>1</td>\n",
       "      <td>1</td>\n",
       "      <td>0</td>\n",
       "      <td>1</td>\n",
       "      <td>1</td>\n",
       "      <td>3</td>\n",
       "      <td>7.0</td>\n",
       "      <td>4.0</td>\n",
       "    </tr>\n",
       "    <tr>\n",
       "      <th>118</th>\n",
       "      <td>36</td>\n",
       "      <td>119</td>\n",
       "      <td>French Crown</td>\n",
       "      <td>Clothing Industry</td>\n",
       "      <td>0</td>\n",
       "      <td>150.0</td>\n",
       "      <td>0.33</td>\n",
       "      <td>45000.0</td>\n",
       "      <td>0.0</td>\n",
       "      <td>0.0</td>\n",
       "      <td>...</td>\n",
       "      <td>0</td>\n",
       "      <td>1</td>\n",
       "      <td>0</td>\n",
       "      <td>1</td>\n",
       "      <td>0</td>\n",
       "      <td>1</td>\n",
       "      <td>0</td>\n",
       "      <td>0</td>\n",
       "      <td>0.0</td>\n",
       "      <td>0.0</td>\n",
       "    </tr>\n",
       "    <tr>\n",
       "      <th>119</th>\n",
       "      <td>36</td>\n",
       "      <td>120</td>\n",
       "      <td>Store My Goods</td>\n",
       "      <td>Storage solutions</td>\n",
       "      <td>1</td>\n",
       "      <td>100.0</td>\n",
       "      <td>1.75</td>\n",
       "      <td>5714.0</td>\n",
       "      <td>100.0</td>\n",
       "      <td>4.0</td>\n",
       "      <td>...</td>\n",
       "      <td>0</td>\n",
       "      <td>1</td>\n",
       "      <td>1</td>\n",
       "      <td>1</td>\n",
       "      <td>1</td>\n",
       "      <td>1</td>\n",
       "      <td>0</td>\n",
       "      <td>2</td>\n",
       "      <td>50.0</td>\n",
       "      <td>2.0</td>\n",
       "    </tr>\n",
       "    <tr>\n",
       "      <th>120</th>\n",
       "      <td>36</td>\n",
       "      <td>121</td>\n",
       "      <td>Devnagri</td>\n",
       "      <td>Translation platform</td>\n",
       "      <td>0</td>\n",
       "      <td>100.0</td>\n",
       "      <td>1.00</td>\n",
       "      <td>10000.0</td>\n",
       "      <td>0.0</td>\n",
       "      <td>0.0</td>\n",
       "      <td>...</td>\n",
       "      <td>0</td>\n",
       "      <td>1</td>\n",
       "      <td>0</td>\n",
       "      <td>1</td>\n",
       "      <td>0</td>\n",
       "      <td>1</td>\n",
       "      <td>0</td>\n",
       "      <td>0</td>\n",
       "      <td>0.0</td>\n",
       "      <td>0.0</td>\n",
       "    </tr>\n",
       "  </tbody>\n",
       "</table>\n",
       "<p>5 rows × 32 columns</p>\n",
       "</div>"
      ],
      "text/plain": [
       "     episode_number  startup_number      brand_name  \\\n",
       "116              35             117    Elcare India   \n",
       "117              36             118        Sneakare   \n",
       "118              36             119    French Crown   \n",
       "119              36             120  Store My Goods   \n",
       "120              36             121        Devnagri   \n",
       "\n",
       "                         description  deal_offered  startup_ask_amount_lakhs  \\\n",
       "116             Carenting for Elders             0                     100.0   \n",
       "117  Shoe care and storage solutions             1                      20.0   \n",
       "118                Clothing Industry             0                     150.0   \n",
       "119                Storage solutions             1                     100.0   \n",
       "120             Translation platform             0                     100.0   \n",
       "\n",
       "     startup_ask_percentage  startup_ask_valuation  deal_amount_lakhs  \\\n",
       "116                    2.50                 4000.0                0.0   \n",
       "117                    5.00                  400.0               21.0   \n",
       "118                    0.33                45000.0                0.0   \n",
       "119                    1.75                 5714.0              100.0   \n",
       "120                    1.00                10000.0                0.0   \n",
       "\n",
       "     deal_equity  ...  ghazal_invested  namita_present  namita_invested  \\\n",
       "116          0.0  ...                0               1                0   \n",
       "117         12.0  ...                0               1                1   \n",
       "118          0.0  ...                0               1                0   \n",
       "119          4.0  ...                0               1                1   \n",
       "120          0.0  ...                0               1                0   \n",
       "\n",
       "     peyush_present  peyush_invested  vineeta_present  vineeta_invested  \\\n",
       "116               1                0                1                 0   \n",
       "117               1                0                1                 1   \n",
       "118               1                0                1                 0   \n",
       "119               1                1                1                 0   \n",
       "120               1                0                1                 0   \n",
       "\n",
       "     sharks_offering  amount_per_shark  equity_per_shark  \n",
       "116                0               0.0               0.0  \n",
       "117                3               7.0               4.0  \n",
       "118                0               0.0               0.0  \n",
       "119                2              50.0               2.0  \n",
       "120                0               0.0               0.0  \n",
       "\n",
       "[5 rows x 32 columns]"
      ]
     },
     "execution_count": 5,
     "metadata": {},
     "output_type": "execute_result"
    }
   ],
   "source": [
    "data.tail()"
   ]
  },
  {
   "cell_type": "code",
   "execution_count": 6,
   "metadata": {},
   "outputs": [
    {
     "data": {
      "text/plain": [
       "(121, 32)"
      ]
     },
     "execution_count": 6,
     "metadata": {},
     "output_type": "execute_result"
    }
   ],
   "source": [
    "data.shape"
   ]
  },
  {
   "cell_type": "code",
   "execution_count": 8,
   "metadata": {},
   "outputs": [
    {
     "data": {
      "text/plain": [
       "Index(['episode_number', 'startup_number', 'brand_name', 'description',\n",
       "       'deal_offered', 'startup_ask_amount_lakhs', 'startup_ask_percentage',\n",
       "       'startup_ask_valuation', 'deal_amount_lakhs', 'deal_equity',\n",
       "       'deal_valuation', 'loan_element_present', 'loan_amount',\n",
       "       'rannvijay_present', 'abish_present', 'aman_present', 'aman_invested',\n",
       "       'anupam_present', 'anupam_invested', 'ashneer_present',\n",
       "       'ashneer_invested', 'ghazal_present', 'ghazal_invested',\n",
       "       'namita_present', 'namita_invested', 'peyush_present',\n",
       "       'peyush_invested', 'vineeta_present', 'vineeta_invested',\n",
       "       'sharks_offering', 'amount_per_shark', 'equity_per_shark'],\n",
       "      dtype='object')"
      ]
     },
     "execution_count": 8,
     "metadata": {},
     "output_type": "execute_result"
    }
   ],
   "source": [
    "data.columns"
   ]
  },
  {
   "cell_type": "code",
   "execution_count": 9,
   "metadata": {},
   "outputs": [
    {
     "data": {
      "text/plain": [
       "<bound method DataFrame.info of      episode_number  startup_number           brand_name  \\\n",
       "0                 1               1  BluePine Industries   \n",
       "1                 1               2        Booz scooters   \n",
       "2                 1               3  Heart up my Sleeves   \n",
       "3                 2               4           Tagz Foods   \n",
       "4                 2               5       Head and Heart   \n",
       "..              ...             ...                  ...   \n",
       "116              35             117         Elcare India   \n",
       "117              36             118             Sneakare   \n",
       "118              36             119         French Crown   \n",
       "119              36             120       Store My Goods   \n",
       "120              36             121             Devnagri   \n",
       "\n",
       "                                       description  deal_offered  \\\n",
       "0                                     Frozen Momos             1   \n",
       "1    Renting e-bike for mobility in private spaces             1   \n",
       "2                               Detachable Sleeves             1   \n",
       "3                             Healthy Potato Chips             1   \n",
       "4                         Brain Development Course             0   \n",
       "..                                             ...           ...   \n",
       "116                           Carenting for Elders             0   \n",
       "117                Shoe care and storage solutions             1   \n",
       "118                              Clothing Industry             0   \n",
       "119                              Storage solutions             1   \n",
       "120                           Translation platform             0   \n",
       "\n",
       "     startup_ask_amount_lakhs  startup_ask_percentage  startup_ask_valuation  \\\n",
       "0                        50.0                    5.00                1000.00   \n",
       "1                        40.0                   15.00                 266.67   \n",
       "2                        25.0                   10.00                 250.00   \n",
       "3                        70.0                    1.00                7000.00   \n",
       "4                        50.0                    5.00                1000.00   \n",
       "..                        ...                     ...                    ...   \n",
       "116                     100.0                    2.50                4000.00   \n",
       "117                      20.0                    5.00                 400.00   \n",
       "118                     150.0                    0.33               45000.00   \n",
       "119                     100.0                    1.75                5714.00   \n",
       "120                     100.0                    1.00               10000.00   \n",
       "\n",
       "     deal_amount_lakhs  deal_equity  ...  ghazal_invested  namita_present  \\\n",
       "0                 75.0        16.00  ...                0               1   \n",
       "1                 40.0        50.00  ...                0               1   \n",
       "2                 25.0        30.00  ...                0               1   \n",
       "3                 70.0         2.75  ...                0               1   \n",
       "4                  0.0         0.00  ...                0               1   \n",
       "..                 ...          ...  ...              ...             ...   \n",
       "116                0.0         0.00  ...                0               1   \n",
       "117               21.0        12.00  ...                0               1   \n",
       "118                0.0         0.00  ...                0               1   \n",
       "119              100.0         4.00  ...                0               1   \n",
       "120                0.0         0.00  ...                0               1   \n",
       "\n",
       "     namita_invested  peyush_present  peyush_invested  vineeta_present  \\\n",
       "0                  0               0                0                1   \n",
       "1                  0               0                0                1   \n",
       "2                  0               0                0                1   \n",
       "3                  0               0                0                1   \n",
       "4                  0               0                0                1   \n",
       "..               ...             ...              ...              ...   \n",
       "116                0               1                0                1   \n",
       "117                1               1                0                1   \n",
       "118                0               1                0                1   \n",
       "119                1               1                1                1   \n",
       "120                0               1                0                1   \n",
       "\n",
       "     vineeta_invested  sharks_offering  amount_per_shark  equity_per_shark  \n",
       "0                   1                3              25.0          5.333333  \n",
       "1                   1                2              20.0         25.000000  \n",
       "2                   1                2              12.5         15.000000  \n",
       "3                   0                1              70.0          2.750000  \n",
       "4                   0                0               0.0          0.000000  \n",
       "..                ...              ...               ...               ...  \n",
       "116                 0                0               0.0          0.000000  \n",
       "117                 1                3               7.0          4.000000  \n",
       "118                 0                0               0.0          0.000000  \n",
       "119                 0                2              50.0          2.000000  \n",
       "120                 0                0               0.0          0.000000  \n",
       "\n",
       "[121 rows x 32 columns]>"
      ]
     },
     "execution_count": 9,
     "metadata": {},
     "output_type": "execute_result"
    }
   ],
   "source": [
    "data.info"
   ]
  },
  {
   "cell_type": "code",
   "execution_count": 10,
   "metadata": {},
   "outputs": [
    {
     "data": {
      "text/plain": [
       "<bound method NDFrame.describe of      episode_number  startup_number           brand_name  \\\n",
       "0                 1               1  BluePine Industries   \n",
       "1                 1               2        Booz scooters   \n",
       "2                 1               3  Heart up my Sleeves   \n",
       "3                 2               4           Tagz Foods   \n",
       "4                 2               5       Head and Heart   \n",
       "..              ...             ...                  ...   \n",
       "116              35             117         Elcare India   \n",
       "117              36             118             Sneakare   \n",
       "118              36             119         French Crown   \n",
       "119              36             120       Store My Goods   \n",
       "120              36             121             Devnagri   \n",
       "\n",
       "                                       description  deal_offered  \\\n",
       "0                                     Frozen Momos             1   \n",
       "1    Renting e-bike for mobility in private spaces             1   \n",
       "2                               Detachable Sleeves             1   \n",
       "3                             Healthy Potato Chips             1   \n",
       "4                         Brain Development Course             0   \n",
       "..                                             ...           ...   \n",
       "116                           Carenting for Elders             0   \n",
       "117                Shoe care and storage solutions             1   \n",
       "118                              Clothing Industry             0   \n",
       "119                              Storage solutions             1   \n",
       "120                           Translation platform             0   \n",
       "\n",
       "     startup_ask_amount_lakhs  startup_ask_percentage  startup_ask_valuation  \\\n",
       "0                        50.0                    5.00                1000.00   \n",
       "1                        40.0                   15.00                 266.67   \n",
       "2                        25.0                   10.00                 250.00   \n",
       "3                        70.0                    1.00                7000.00   \n",
       "4                        50.0                    5.00                1000.00   \n",
       "..                        ...                     ...                    ...   \n",
       "116                     100.0                    2.50                4000.00   \n",
       "117                      20.0                    5.00                 400.00   \n",
       "118                     150.0                    0.33               45000.00   \n",
       "119                     100.0                    1.75                5714.00   \n",
       "120                     100.0                    1.00               10000.00   \n",
       "\n",
       "     deal_amount_lakhs  deal_equity  ...  ghazal_invested  namita_present  \\\n",
       "0                 75.0        16.00  ...                0               1   \n",
       "1                 40.0        50.00  ...                0               1   \n",
       "2                 25.0        30.00  ...                0               1   \n",
       "3                 70.0         2.75  ...                0               1   \n",
       "4                  0.0         0.00  ...                0               1   \n",
       "..                 ...          ...  ...              ...             ...   \n",
       "116                0.0         0.00  ...                0               1   \n",
       "117               21.0        12.00  ...                0               1   \n",
       "118                0.0         0.00  ...                0               1   \n",
       "119              100.0         4.00  ...                0               1   \n",
       "120                0.0         0.00  ...                0               1   \n",
       "\n",
       "     namita_invested  peyush_present  peyush_invested  vineeta_present  \\\n",
       "0                  0               0                0                1   \n",
       "1                  0               0                0                1   \n",
       "2                  0               0                0                1   \n",
       "3                  0               0                0                1   \n",
       "4                  0               0                0                1   \n",
       "..               ...             ...              ...              ...   \n",
       "116                0               1                0                1   \n",
       "117                1               1                0                1   \n",
       "118                0               1                0                1   \n",
       "119                1               1                1                1   \n",
       "120                0               1                0                1   \n",
       "\n",
       "     vineeta_invested  sharks_offering  amount_per_shark  equity_per_shark  \n",
       "0                   1                3              25.0          5.333333  \n",
       "1                   1                2              20.0         25.000000  \n",
       "2                   1                2              12.5         15.000000  \n",
       "3                   0                1              70.0          2.750000  \n",
       "4                   0                0               0.0          0.000000  \n",
       "..                ...              ...               ...               ...  \n",
       "116                 0                0               0.0          0.000000  \n",
       "117                 1                3               7.0          4.000000  \n",
       "118                 0                0               0.0          0.000000  \n",
       "119                 0                2              50.0          2.000000  \n",
       "120                 0                0               0.0          0.000000  \n",
       "\n",
       "[121 rows x 32 columns]>"
      ]
     },
     "execution_count": 10,
     "metadata": {},
     "output_type": "execute_result"
    }
   ],
   "source": [
    "data.describe"
   ]
  },
  {
   "cell_type": "code",
   "execution_count": 11,
   "metadata": {},
   "outputs": [
    {
     "data": {
      "text/plain": [
       "episode_number              0\n",
       "startup_number              0\n",
       "brand_name                  0\n",
       "description                 0\n",
       "deal_offered                0\n",
       "startup_ask_amount_lakhs    0\n",
       "startup_ask_percentage      0\n",
       "startup_ask_valuation       0\n",
       "deal_amount_lakhs           0\n",
       "deal_equity                 0\n",
       "deal_valuation              0\n",
       "loan_element_present        0\n",
       "loan_amount                 0\n",
       "rannvijay_present           0\n",
       "abish_present               0\n",
       "aman_present                0\n",
       "aman_invested               0\n",
       "anupam_present              0\n",
       "anupam_invested             0\n",
       "ashneer_present             0\n",
       "ashneer_invested            0\n",
       "ghazal_present              0\n",
       "ghazal_invested             0\n",
       "namita_present              0\n",
       "namita_invested             0\n",
       "peyush_present              0\n",
       "peyush_invested             0\n",
       "vineeta_present             0\n",
       "vineeta_invested            0\n",
       "sharks_offering             0\n",
       "amount_per_shark            0\n",
       "equity_per_shark            0\n",
       "dtype: int64"
      ]
     },
     "execution_count": 11,
     "metadata": {},
     "output_type": "execute_result"
    }
   ],
   "source": [
    "data.isnull().sum()"
   ]
  },
  {
   "cell_type": "code",
   "execution_count": 12,
   "metadata": {},
   "outputs": [
    {
     "data": {
      "text/plain": [
       "1    68\n",
       "0    53\n",
       "Name: deal_offered, dtype: int64"
      ]
     },
     "execution_count": 12,
     "metadata": {},
     "output_type": "execute_result"
    }
   ],
   "source": [
    "data['deal_offered'].value_counts()"
   ]
  },
  {
   "cell_type": "code",
   "execution_count": 13,
   "metadata": {},
   "outputs": [
    {
     "data": {
      "text/plain": [
       "1    102\n",
       "0     19\n",
       "Name: aman_present, dtype: int64"
      ]
     },
     "execution_count": 13,
     "metadata": {},
     "output_type": "execute_result"
    }
   ],
   "source": [
    "data['aman_present'].value_counts()"
   ]
  },
  {
   "cell_type": "code",
   "execution_count": 14,
   "metadata": {},
   "outputs": [
    {
     "data": {
      "text/plain": [
       "1    121\n",
       "Name: anupam_present, dtype: int64"
      ]
     },
     "execution_count": 14,
     "metadata": {},
     "output_type": "execute_result"
    }
   ],
   "source": [
    "data['anupam_present'].value_counts()"
   ]
  },
  {
   "cell_type": "code",
   "execution_count": 15,
   "metadata": {},
   "outputs": [
    {
     "data": {
      "text/plain": [
       "1    98\n",
       "0    23\n",
       "Name: ashneer_present, dtype: int64"
      ]
     },
     "execution_count": 15,
     "metadata": {},
     "output_type": "execute_result"
    }
   ],
   "source": [
    "data['ashneer_present'].value_counts()"
   ]
  },
  {
   "cell_type": "code",
   "execution_count": 17,
   "metadata": {},
   "outputs": [
    {
     "data": {
      "text/plain": [
       "0    95\n",
       "1    26\n",
       "Name: ghazal_present, dtype: int64"
      ]
     },
     "execution_count": 17,
     "metadata": {},
     "output_type": "execute_result"
    }
   ],
   "source": [
    "data['ghazal_present'].value_counts()"
   ]
  },
  {
   "cell_type": "code",
   "execution_count": 18,
   "metadata": {},
   "outputs": [
    {
     "data": {
      "text/plain": [
       "1    92\n",
       "0    29\n",
       "Name: peyush_present, dtype: int64"
      ]
     },
     "execution_count": 18,
     "metadata": {},
     "output_type": "execute_result"
    }
   ],
   "source": [
    "data['peyush_present'].value_counts()"
   ]
  },
  {
   "cell_type": "code",
   "execution_count": 19,
   "metadata": {},
   "outputs": [
    {
     "data": {
      "text/plain": [
       "1    110\n",
       "0     11\n",
       "Name: namita_present, dtype: int64"
      ]
     },
     "execution_count": 19,
     "metadata": {},
     "output_type": "execute_result"
    }
   ],
   "source": [
    "data['namita_present'].value_counts()"
   ]
  },
  {
   "cell_type": "code",
   "execution_count": 20,
   "metadata": {},
   "outputs": [
    {
     "data": {
      "text/plain": [
       "1    70\n",
       "0    51\n",
       "Name: vineeta_present, dtype: int64"
      ]
     },
     "execution_count": 20,
     "metadata": {},
     "output_type": "execute_result"
    }
   ],
   "source": [
    "data['vineeta_present'].value_counts()"
   ]
  },
  {
   "cell_type": "code",
   "execution_count": 21,
   "metadata": {},
   "outputs": [],
   "source": [
    "aman_present = len(data[data.aman_present == 1]) \n",
    "anupam_present = len(data[data.anupam_present == 1]) \n",
    "ashneer_present = len(data[data.ashneer_present == 1]) \n",
    "ghazal_present = len(data[data.ghazal_present == 1]) \n",
    "namita_present = len(data[data.namita_present == 1]) \n",
    "peyush_present = len(data[data.peyush_present == 1]) \n",
    "vineeta_present = len(data[data.vineeta_present == 1])"
   ]
  },
  {
   "cell_type": "code",
   "execution_count": 22,
   "metadata": {},
   "outputs": [
    {
     "data": {
      "image/png": "[encoded data removed]",
      "text/plain": [
       "<Figure size 720x360 with 1 Axes>"
      ]
     },
     "metadata": {
      "needs_background": "light"
     },
     "output_type": "display_data"
    }
   ],
   "source": [
    "fig = plt.figure(figsize = (10, 5)) \n",
    "present = [aman_present, anupam_present, ashneer_present, ghazal_present, namita_present, peyush_present, vineeta_present] \n",
    "names = ['Aman','Anupam', 'Ashneer', 'Ghazal', 'Namita', 'Peyush', 'Vineeta'] \n",
    "plt.bar(names, present, color ='maroon',width = 0.4) \n",
    "plt.xlabel(\"Candidate Name\") \n",
    "plt.ylabel(\"Candidate Present\") \n",
    "plt.title(\"Candidate Present vs Name\") \n",
    "plt.show()"
   ]
  },
  {
   "cell_type": "code",
   "execution_count": 55,
   "metadata": {},
   "outputs": [
    {
     "data": {
      "image/png": "[encoded data removed]",
      "text/plain": [
       "<Figure size 432x288 with 1 Axes>"
      ]
     },
     "metadata": {},
     "output_type": "display_data"
    }
   ],
   "source": [
    "plt.pie(present, labels = names, radius = 2.0, autopct = '%0.1f%%') \n",
    "plt.suptitle('Percentage of candidates present', x = 0.53, y = 1.25, color = 'white') \n",
    "plt.show()"
   ]
  },
  {
   "cell_type": "code",
   "execution_count": 27,
   "metadata": {},
   "outputs": [
    {
     "data": {
      "text/plain": [
       "0    92\n",
       "1    29\n",
       "Name: aman_invested, dtype: int64"
      ]
     },
     "execution_count": 27,
     "metadata": {},
     "output_type": "execute_result"
    }
   ],
   "source": [
    "data['aman_invested'].value_counts()"
   ]
  },
  {
   "cell_type": "code",
   "execution_count": 28,
   "metadata": {},
   "outputs": [
    {
     "data": {
      "text/plain": [
       "0    97\n",
       "1    24\n",
       "Name: anupam_invested, dtype: int64"
      ]
     },
     "execution_count": 28,
     "metadata": {},
     "output_type": "execute_result"
    }
   ],
   "source": [
    "data['anupam_invested'].value_counts()"
   ]
  },
  {
   "cell_type": "code",
   "execution_count": 29,
   "metadata": {},
   "outputs": [
    {
     "data": {
      "text/plain": [
       "0    105\n",
       "1     16\n",
       "Name: vineeta_invested, dtype: int64"
      ]
     },
     "execution_count": 29,
     "metadata": {},
     "output_type": "execute_result"
    }
   ],
   "source": [
    "data['vineeta_invested'].value_counts()"
   ]
  },
  {
   "cell_type": "code",
   "execution_count": 30,
   "metadata": {},
   "outputs": [
    {
     "data": {
      "text/plain": [
       "0    93\n",
       "1    28\n",
       "Name: peyush_invested, dtype: int64"
      ]
     },
     "execution_count": 30,
     "metadata": {},
     "output_type": "execute_result"
    }
   ],
   "source": [
    "data['peyush_invested'].value_counts()"
   ]
  },
  {
   "cell_type": "code",
   "execution_count": 31,
   "metadata": {},
   "outputs": [
    {
     "data": {
      "text/plain": [
       "0    97\n",
       "1    24\n",
       "Name: namita_invested, dtype: int64"
      ]
     },
     "execution_count": 31,
     "metadata": {},
     "output_type": "execute_result"
    }
   ],
   "source": [
    "data['namita_invested'].value_counts()"
   ]
  },
  {
   "cell_type": "code",
   "execution_count": 32,
   "metadata": {},
   "outputs": [
    {
     "data": {
      "text/plain": [
       "0    114\n",
       "1      7\n",
       "Name: ghazal_invested, dtype: int64"
      ]
     },
     "execution_count": 32,
     "metadata": {},
     "output_type": "execute_result"
    }
   ],
   "source": [
    "data['ghazal_invested'].value_counts()"
   ]
  },
  {
   "cell_type": "code",
   "execution_count": 33,
   "metadata": {},
   "outputs": [
    {
     "data": {
      "text/plain": [
       "0    100\n",
       "1     21\n",
       "Name: ashneer_invested, dtype: int64"
      ]
     },
     "execution_count": 33,
     "metadata": {},
     "output_type": "execute_result"
    }
   ],
   "source": [
    "data['ashneer_invested'].value_counts()"
   ]
  },
  {
   "cell_type": "code",
   "execution_count": 34,
   "metadata": {},
   "outputs": [],
   "source": [
    "aman_invested = len(data[data.aman_invested == 1]) \n",
    "anupam_invested = len(data[data.anupam_invested == 1]) \n",
    "ashneer_invested = len(data[data.ashneer_invested == 1]) \n",
    "ghazal_invested = len(data[data.ghazal_invested == 1]) \n",
    "namita_invested = len(data[data.namita_invested == 1]) \n",
    "peyush_invested = len(data[data.peyush_invested == 1]) \n",
    "vineeta_invested = len(data[data.vineeta_invested == 1])"
   ]
  },
  {
   "cell_type": "code",
   "execution_count": 35,
   "metadata": {},
   "outputs": [
    {
     "data": {
      "image/png": "[encoded data removed]",
      "text/plain": [
       "<Figure size 720x360 with 1 Axes>"
      ]
     },
     "metadata": {
      "needs_background": "light"
     },
     "output_type": "display_data"
    }
   ],
   "source": [
    "fig = plt.figure(figsize = (10, 5))\n",
    "invested = [aman_invested, anupam_invested, ashneer_invested, ghazal_invested, namita_invested, peyush_invested, vineeta_invested] \n",
    "names = ['Aman','Anupam', 'Ashneer', 'Ghazal', 'Namita', 'Peyush', 'Vineeta'] \n",
    "plt.bar(names, invested, color ='orange',width = 0.4) \n",
    "plt.xlabel(\"Candidate Name\") \n",
    "plt.ylabel(\"Candidate Invested\") \n",
    "plt.title(\"Candidate Invested vs Name\") \n",
    "plt.show()"
   ]
  },
  {
   "cell_type": "code",
   "execution_count": 56,
   "metadata": {},
   "outputs": [
    {
     "data": {
      "image/png": "[encoded data removed]",
      "text/plain": [
       "<Figure size 432x288 with 1 Axes>"
      ]
     },
     "metadata": {},
     "output_type": "display_data"
    }
   ],
   "source": [
    "plt.pie(invested, labels = names, radius = 2.0, autopct = '%0.1f%%',  \n",
    "explode = [0.25,0.25,0.25,0.25,0.25,0.25,0.25]) \n",
    "plt.suptitle('Percentage of candidates invested', x = 0.53, y = 1.30, color = 'white') \n",
    "plt.show()"
   ]
  },
  {
   "cell_type": "code",
   "execution_count": 57,
   "metadata": {},
   "outputs": [],
   "source": [
    "#Percent of investments \n",
    "aman_percent = (aman_invested/aman_present)*100 \n",
    "anupam_percent = (anupam_invested/anupam_present)*100 \n",
    "ashneer_percent = (ashneer_invested/ashneer_present)*100 \n",
    "ghazal_percent = (ghazal_invested/ghazal_present)*100\n",
    "namita_percent = (namita_invested/namita_present)*100 \n",
    "peyush_percent = (peyush_invested/peyush_present)*100 \n",
    "vineeta_percent = (vineeta_invested/vineeta_present)*100"
   ]
  },
  {
   "cell_type": "code",
   "execution_count": 58,
   "metadata": {},
   "outputs": [
    {
     "data": {
      "image/png": "[encoded data removed]",
      "text/plain": [
       "<Figure size 720x360 with 1 Axes>"
      ]
     },
     "metadata": {
      "needs_background": "light"
     },
     "output_type": "display_data"
    }
   ],
   "source": [
    "fig = plt.figure(figsize = (10, 5)) \n",
    "percentage = [aman_percent, anupam_percent, ashneer_percent, ghazal_percent, namita_percent, peyush_percent, vineeta_percent] \n",
    "names = ['Aman','Anupam', 'Ashneer', 'Ghazal', 'Namita', 'Peyush', 'Vineeta'] \n",
    "plt.bar(names, percentage, color ='grey',width = 0.4) \n",
    "plt.xlabel(\"Candidate Name\") \n",
    "plt.ylabel(\"Candidate Invested - Percentage\") \n",
    "plt.title(\"Candidate Invested - Percentage vs Name\") \n",
    "plt.show()"
   ]
  },
  {
   "cell_type": "code",
   "execution_count": 60,
   "metadata": {},
   "outputs": [
    {
     "data": {
      "image/png": "[encoded data removed]",
      "text/plain": [
       "<Figure size 432x288 with 1 Axes>"
      ]
     },
     "metadata": {},
     "output_type": "display_data"
    }
   ],
   "source": [
    "plt.pie(percentage, labels = names, radius = 2.0, autopct = '%0.1f%%',  \n",
    "explode = [0.25,0.25,0.25,0.25,0.25,0.25,0.25]) \n",
    "plt.show()"
   ]
  }
 ],
 "metadata": {
  "interpreter": {
   "hash": "f7fa14ff42d06b812b88d9213b0afdb81f274e147c03716f6716e2daf21f8d93"
  },
  "kernelspec": {
   "display_name": "Python 3.10.4 64-bit",
   "language": "python",
   "name": "python3"
  },
  "language_info": {
   "codemirror_mode": {
    "name": "ipython",
    "version": 3
   },
   "file_extension": ".py",
   "mimetype": "text/x-python",
   "name": "python",
   "nbconvert_exporter": "python",
   "pygments_lexer": "ipython3",
   "version": "3.10.4"
  },
  "orig_nbformat": 4
 },
 "nbformat": 4,
 "nbformat_minor": 2
}
